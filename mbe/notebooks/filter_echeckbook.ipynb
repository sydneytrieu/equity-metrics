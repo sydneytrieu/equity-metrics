{
 "cells": [
  {
   "cell_type": "code",
   "execution_count": null,
   "metadata": {},
   "outputs": [],
   "source": [
    "import pandas as pd\n",
    "import json\n",
    "import requests"
   ]
  },
  {
   "cell_type": "markdown",
   "metadata": {},
   "source": [
    "## Filtering eCheckbook\n"
   ]
  },
  {
   "cell_type": "code",
   "execution_count": null,
   "metadata": {},
   "outputs": [],
   "source": [
    "# Load mbe and BAVN names.\n",
    "final_mbe = pd.read_csv('equity-metrics\\mbe\\data\\final_mbe.csv')\n",
    "\n",
    "# Load manually matched names.\n",
    "manually_matched = pd.read_csv('equity-metrics\\mbe\\data\\manually_matched.csv')"
   ]
  },
  {
   "cell_type": "code",
   "execution_count": null,
   "metadata": {},
   "outputs": [],
   "source": [
    "# Load all eCheckbook data for the specified fiscal year.\n",
    "echeckbook = pd.DataFrame()\n",
    "\n",
    "for i in np.arange(15):\n",
    "    url = f'https://controllerdata.lacity.org/resource/pggv-e4fn.json?fiscal_year=2020&$limit=50000&$offset={str(i*50000)}'\n",
    "\n",
    "    echeckbook_req = requests.get(url)\n",
    "    echeckbook_json = json.loads(echeckbook_req.text)\n",
    "    echeckbook_df = pd.DataFrame(echeckbook_json)\n",
    "\n",
    "    echeckbook = echeckbook.append(echeckbook_df, ignore_index=True)\n",
    "\n",
    "echeckbook"
   ]
  },
  {
   "cell_type": "code",
   "execution_count": null,
   "metadata": {},
   "outputs": [],
   "source": [
    "# Put all mbe names into a list used to filter the eCheckbook data.\n",
    "mbe_names = final_mbe[['MBE_COMPANY_NAME', 'FIRST_BAVN_NAME', 'SECOND_BAVN_NAME', 'BAVN_DBA']].to_numpy().reshape(-1)\n",
    "mbe_names = mbe_names[~pd.isna(mbe_names)]\n",
    "\n",
    "# Add the manually_matched names to mbe_names and filter for unique names.\n",
    "manually_matched = manually_matched.to_numpy().reshape(-1)\n",
    "mbe_names = set(mbe_names + manually_matched[~pd.isna(manually_matched)])"
   ]
  },
  {
   "cell_type": "code",
   "execution_count": null,
   "metadata": {},
   "outputs": [],
   "source": [
    "# Filter eCheckbook data and save it.\n",
    "filtered_echeckbook = echeckbook[echeckbook['vendor_name'].isin(mbe_names)]\n",
    "filtered_echeckbook.to_csv('equity-metrics\\mbe\\outputs\\filtered_echeckbook_2020.csv')"
   ]
  },
  {
   "cell_type": "code",
   "execution_count": null,
   "metadata": {},
   "outputs": [],
   "source": []
  }
 ],
 "metadata": {
  "kernelspec": {
   "display_name": "Python 3",
   "language": "python",
   "name": "python3"
  },
  "language_info": {
   "codemirror_mode": {
    "name": "ipython",
    "version": 3
   },
   "file_extension": ".py",
   "mimetype": "text/x-python",
   "name": "python",
   "nbconvert_exporter": "python",
   "pygments_lexer": "ipython3",
   "version": "3.7.6"
  }
 },
 "nbformat": 4,
 "nbformat_minor": 4
}
