{
 "cells": [
  {
   "cell_type": "code",
   "execution_count": null,
   "metadata": {},
   "outputs": [],
   "source": [
    "import pandas as pd\n",
    "import numpy as np\n",
    "import re\n",
    "\n",
    "import json\n",
    "import requests\n",
    "\n",
    "from rapidfuzz import fuzz, process"
   ]
  },
  {
   "cell_type": "markdown",
   "metadata": {},
   "source": [
    "## MBE / BAVN name matching"
   ]
  },
  {
   "cell_type": "code",
   "execution_count": null,
   "metadata": {},
   "outputs": [],
   "source": [
    "mbe = pd.read_excel('equity-metrics\\mbe\\data\\Company_Cert_MBE.xlsx')"
   ]
  },
  {
   "cell_type": "code",
   "execution_count": null,
   "metadata": {},
   "outputs": [],
   "source": [
    "# Load all of the BAVN instances into one DataFrame.\n",
    "bavn = pd.DataFrame()\n",
    "\n",
    "for i in np.arange(12):\n",
    "    url = f'https://data.lacity.org/resource/6rrh-rzua.json?$limit=50000&$offset={str(i*50000)}'\n",
    "\n",
    "    bavn_req = requests.get(url)\n",
    "    bavn_json = json.loads(bavn_req.text)\n",
    "    bavn_df = pd.DataFrame(bavn_json)\n",
    "    \n",
    "    bavn = bavn.append(bavn_df, ignore_index=True)"
   ]
  },
  {
   "cell_type": "code",
   "execution_count": null,
   "metadata": {},
   "outputs": [],
   "source": [
    "# Find the best match for the given mbe_name in the BAVN DataFrame using rapidfuzz \n",
    "# and return it if its score is high enough.\n",
    "def bavn_name(mbe_name, bavn_names):\n",
    "    result = process.extractOne(mbe_name, bavn_names)\n",
    "    \n",
    "    if result[1] >= 95:\n",
    "        print(result)\n",
    "        return result[0]\n",
    "    else:\n",
    "        return np.nan"
   ]
  },
  {
   "cell_type": "code",
   "execution_count": null,
   "metadata": {},
   "outputs": [],
   "source": [
    "# Apply bavn_name to the BAVN df's business names.\n",
    "mbe['BAVN_MATCH'] = mbe['COMPANY_NAME'].apply(lambda x: bavn_name(x, bavn['business_name']))"
   ]
  },
  {
   "cell_type": "code",
   "execution_count": null,
   "metadata": {},
   "outputs": [],
   "source": [
    "# Apply bavn_name to the BAVN df's doing-business-as (dba) names.\n",
    "dba_df = bavn['dba_name'].dropna()\n",
    "mbe['BAVN_DBA_MATCH'] = mbe['COMPANY_NAME'].apply(lambda x: bavn_name(x, dba_df))"
   ]
  },
  {
   "cell_type": "code",
   "execution_count": null,
   "metadata": {},
   "outputs": [],
   "source": [
    "# For instances where a BAVN dba name is found but a BAVN business name is missing, reverse search the BAVN df \n",
    "# to add the original business name(s) to the mbe df. Create dba_to_bavn to hold these names.\n",
    "def dba_to_bavn(row, bavn_df):\n",
    "    if row['BAVN_DBA_MATCH'] is not np.nan and row['BAVN_MATCH'] is np.nan:\n",
    "        name = bavn_df[bavn_df['dba_name']==row['BAVN_DBA_MATCH']]['business_name']\n",
    "        return name\n",
    "    return np.nan\n",
    "\n",
    "dba_to_bavn = mbe.apply(lambda x: dba_to_bavn(x, bavn), axis=1)"
   ]
  },
  {
   "cell_type": "code",
   "execution_count": null,
   "metadata": {},
   "outputs": [],
   "source": [
    "# Extract instances of mulitple business names from dba_to_bavn and put them into the mbe df.\n",
    "def name_one(n):\n",
    "    if n is not np.nan:\n",
    "        return n[0]\n",
    "    return np.nan\n",
    "\n",
    "def name_two(n):\n",
    "    if n is not np.nan and len(n)>1:\n",
    "        return n[1]\n",
    "    return np.nan\n",
    "\n",
    "mbe['FIRST_BAVN_NAME'] = dba_to_bavn.apply(name_one)\n",
    "mbe['SECOND_BAVN_NAME'] = dba_to_bavn.apply(name_two)"
   ]
  },
  {
   "cell_type": "code",
   "execution_count": null,
   "metadata": {},
   "outputs": [],
   "source": [
    "# Merges the existing mbe['BAVN_MATCH'] column with the columns generated in the previous cell.\n",
    "def merge_bavn_match(row):\n",
    "    if row['BAVN_MATCH'] is not np.nan:\n",
    "        return row['BAVN_MATCH']\n",
    "    if row['BAVN_MATCH'] is np.nan and row['FIRST_BAVN_NAME'] is not np.nan:\n",
    "        return row['FIRST_BAVN_NAME']\n",
    "    return np.nan"
   ]
  },
  {
   "cell_type": "code",
   "execution_count": null,
   "metadata": {},
   "outputs": [],
   "source": [
    "# Final restructuring of mbe.\n",
    "mbe['FIRST_BAVN_NAME'] = mbe.apply(merge_bavn_match, axis=1)\n",
    "cols = ['BAVN_COMPANY_ID', 'MBE_COMPANY_NAME', 'FIRST_BAVN_NAME', 'SECOND_BAVN_NAME', 'BAVN_DBA'] \n",
    "\n",
    "final_mbe = mbe.rename(columns={'COMPANY_NAME': 'MBE_COMPANY_NAME',\n",
    "                                'BAVN_DBA_MATCH': 'BAVN_DBA'})[cols]\n",
    "final_mbe"
   ]
  },
  {
   "cell_type": "code",
   "execution_count": null,
   "metadata": {},
   "outputs": [],
   "source": [
    "# Save or load final_mbe.\n",
    "\n",
    "# final_mbe.to_csv('equity-metrics\\mbe\\data\\final_mbe.csv')\n",
    "final_mbe = pd.read_csv('equity-metrics\\mbe\\data\\final_mbe.csv').drop(columns='Unnamed: 0')"
   ]
  },
  {
   "cell_type": "markdown",
   "metadata": {},
   "source": [
    "## Unmatched MBEs"
   ]
  },
  {
   "cell_type": "code",
   "execution_count": null,
   "metadata": {},
   "outputs": [],
   "source": [
    "# Identify MBEs without BAVN matches.\n",
    "unmatched = final_mbe[(final_mbe['FIRST_BAVN_NAME'].isna())]\n",
    "unmatched"
   ]
  },
  {
   "cell_type": "code",
   "execution_count": null,
   "metadata": {},
   "outputs": [],
   "source": [
    "# Use rapidfuzz to find similar BAVN names and manually authenticate each match.\n",
    "def manual_matcher(mbe, bavn_names):\n",
    "    print(mbe)\n",
    "    results = process.extract(mbe, bavn_names, limit=3)\n",
    "    \n",
    "    for r in results:\n",
    "        curr_name = r[0]\n",
    "        \n",
    "        print(curr_name)\n",
    "        auth = input('y/n?: ')\n",
    "\n",
    "        if auth == 'y':\n",
    "            return curr_name\n",
    "        \n",
    "    return np.nan"
   ]
  },
  {
   "cell_type": "code",
   "execution_count": null,
   "metadata": {
    "scrolled": true
   },
   "outputs": [],
   "source": [
    "# Save the authenticated matches.\n",
    "unmatched['FIRST_BAVN_NAME'] = unmatched['MBE_COMPANY_NAME'].apply(lambda x: manual_matcher(x, bavn['business_name']))\n",
    "unmatched.to_csv('equity-metrics\\mbe\\data\\manually_matched.csv')"
   ]
  },
  {
   "cell_type": "code",
   "execution_count": null,
   "metadata": {},
   "outputs": [],
   "source": []
  }
 ],
 "metadata": {
  "kernelspec": {
   "display_name": "Python 3",
   "language": "python",
   "name": "python3"
  },
  "language_info": {
   "codemirror_mode": {
    "name": "ipython",
    "version": 3
   },
   "file_extension": ".py",
   "mimetype": "text/x-python",
   "name": "python",
   "nbconvert_exporter": "python",
   "pygments_lexer": "ipython3",
   "version": "3.7.6"
  }
 },
 "nbformat": 4,
 "nbformat_minor": 4
}
